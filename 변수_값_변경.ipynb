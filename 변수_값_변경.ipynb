{
  "nbformat": 4,
  "nbformat_minor": 0,
  "metadata": {
    "colab": {
      "provenance": [],
      "authorship_tag": "ABX9TyMJ8w0Si4tIJT+Klng4ruJK",
      "include_colab_link": true
    },
    "kernelspec": {
      "name": "python3",
      "display_name": "Python 3"
    },
    "language_info": {
      "name": "python"
    }
  },
  "cells": [
    {
      "cell_type": "markdown",
      "metadata": {
        "id": "view-in-github",
        "colab_type": "text"
      },
      "source": [
        "<a href=\"https://colab.research.google.com/github/willbezero/colab/blob/main/%EB%B3%80%EC%88%98_%EA%B0%92_%EB%B3%80%EA%B2%BD.ipynb\" target=\"_parent\"><img src=\"https://colab.research.google.com/assets/colab-badge.svg\" alt=\"Open In Colab\"/></a>"
      ]
    },
    {
      "cell_type": "markdown",
      "source": [
        "# 변수 값 변경"
      ],
      "metadata": {
        "id": "CuzjvjDIwtZz"
      }
    },
    {
      "cell_type": "markdown",
      "source": [
        "####처음 변수 a가 값 5을 할당했다 하더라도, 다시 다른 값을 변수 a에 할당 할 수 있습니다. 다음과 같이 코드를 작성하면, 코드는 순서대로 실행되므로 변수 a에는 처음 값 5가 담겨있다가, 최종적으로는 값 3이 담겨있게 됩니다"
      ],
      "metadata": {
        "id": "iBuLp8LZxICj"
      }
    },
    {
      "cell_type": "code",
      "source": [
        "a = 5\n",
        "print(\"A is\", a)\n",
        "\n",
        "a = 3\n",
        "print(\"A is\", a)"
      ],
      "metadata": {
        "colab": {
          "base_uri": "https://localhost:8080/"
        },
        "id": "UXr4boBNxPYw",
        "outputId": "a57578b4-69a4-4d47-cbf3-d73805b97d2a"
      },
      "execution_count": 2,
      "outputs": [
        {
          "output_type": "stream",
          "name": "stdout",
          "text": [
            "A is 5\n",
            "A is 3\n"
          ]
        }
      ]
    },
    {
      "cell_type": "markdown",
      "source": [
        "####출력 결과\n",
        "A is 5  \n",
        "A is 3"
      ],
      "metadata": {
        "id": "xidSyOaSxVG6"
      }
    }
  ]
}